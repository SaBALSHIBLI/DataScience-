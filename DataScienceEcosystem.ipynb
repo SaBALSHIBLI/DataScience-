{
 "cells": [
  {
   "cell_type": "markdown",
   "id": "baedab82-8ff6-49ee-b24e-e61baef97c0b",
   "metadata": {},
   "source": [
    "# Data Science Tools and Ecosystem"
   ]
  },
  {
   "cell_type": "markdown",
   "id": "0cb5e477-77f5-4b6a-a814-f1c38ebc90fd",
   "metadata": {},
   "source": [
    "In this notebook data science tools and ecosystem are summarized"
   ]
  },
  {
   "cell_type": "markdown",
   "id": "02222ff4-da82-47ce-8248-9845565dd6c5",
   "metadata": {},
   "source": [
    "**Objectives:**\n",
    "\n",
    "* Some of the most popular languages Data Scientists use\n",
    "* Some of the commonly used libraries used by Data Scientists \n",
    "* Examples of evaluating arithmetic expressions in Python"
   ]
  },
  {
   "cell_type": "markdown",
   "id": "2a505c1a-b985-45e7-903e-9e57eace43f7",
   "metadata": {},
   "source": [
    "Some of the most popular languages Data Scientists use are:\n",
    "\n",
    "1. Python\n",
    "1. R\n",
    "1. Scala"
   ]
  },
  {
   "cell_type": "markdown",
   "id": "ce20e3d6-8cf5-4731-8c41-4804e24d3f10",
   "metadata": {},
   "source": [
    "Some of the commonly used libraries used by Data Scientists are:\n",
    "\n",
    "1. Numpy\n",
    "1. Pandas\n",
    "1. Matplotlib\n",
    "\n"
   ]
  },
  {
   "cell_type": "markdown",
   "id": "adc17070-89ab-4b00-9f48-9ade9b99595a",
   "metadata": {},
   "source": [
    "### Below are few examples of evaluating arithmetic expressions in Python"
   ]
  },
  {
   "cell_type": "code",
   "execution_count": 2,
   "id": "3db7f38f-caff-41cb-a1c6-d9369f7178cc",
   "metadata": {
    "tags": []
   },
   "outputs": [
    {
     "data": {
      "text/plain": [
       "17"
      ]
     },
     "execution_count": 2,
     "metadata": {},
     "output_type": "execute_result"
    }
   ],
   "source": [
    "(3*4)+5"
   ]
  },
  {
   "cell_type": "code",
   "execution_count": 3,
   "id": "9f788534-b5c3-4853-8bd2-1b8faf9ae18f",
   "metadata": {
    "tags": []
   },
   "outputs": [
    {
     "data": {
      "text/plain": [
       "3.3333333333333335"
      ]
     },
     "execution_count": 3,
     "metadata": {},
     "output_type": "execute_result"
    }
   ],
   "source": [
    "# This will converte 200 minutes into hrs\n",
    "\n",
    "200/60"
   ]
  },
  {
   "cell_type": "code",
   "execution_count": null,
   "id": "9fc586f2-cb53-48d7-940b-4c67fcd7484c",
   "metadata": {},
   "outputs": [],
   "source": []
  }
 ],
 "metadata": {
  "kernelspec": {
   "display_name": "Python",
   "language": "python",
   "name": "conda-env-python-py"
  },
  "language_info": {
   "codemirror_mode": {
    "name": "ipython",
    "version": 3
   },
   "file_extension": ".py",
   "mimetype": "text/x-python",
   "name": "python",
   "nbconvert_exporter": "python",
   "pygments_lexer": "ipython3",
   "version": "3.7.12"
  }
 },
 "nbformat": 4,
 "nbformat_minor": 5
}
